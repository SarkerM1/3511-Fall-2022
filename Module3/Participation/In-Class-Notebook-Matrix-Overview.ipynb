{
 "cells": [
  {
   "cell_type": "code",
   "execution_count": 14,
   "id": "1046f22f",
   "metadata": {},
   "outputs": [],
   "source": [
    "import numpy as np\n",
    "%matplotlib notebook"
   ]
  },
  {
   "cell_type": "markdown",
   "id": "fe064b7d",
   "metadata": {},
   "source": [
    "# Matrix Review"
   ]
  },
  {
   "cell_type": "markdown",
   "id": "32ab1ffd",
   "metadata": {},
   "source": [
    "Take the matricies:\n",
    "\n",
    "$\\bf{A} =\n",
    "\\begin{pmatrix}\n",
    "2 & 4 & -7\\\\\n",
    "3 & -3 & 0\\\\\n",
    "1 & 7 & 5\n",
    "\\end{pmatrix},\\;\\;\n",
    "\\bf{B} =\n",
    "\\begin{pmatrix}\n",
    "2 & 4\\\\\n",
    "3 & -3\\\\\n",
    "1 & 7\n",
    "\\end{pmatrix}, \\;\\;\n",
    "\\bf{C} =\n",
    "\\begin{pmatrix}\n",
    "-1 & 1\\\\\n",
    "1 & -1\n",
    "\\end{pmatrix}, \\;\\;\n",
    "\\bf{D} = \n",
    "\\begin{pmatrix}\n",
    "2 & 0\\\\\n",
    "-3 & 6\n",
    "\\end{pmatrix}\n",
    "$ \n",
    "\n",
    "Define the matricies as numpy arrays"
   ]
  },
  {
   "cell_type": "code",
   "execution_count": 15,
   "id": "2a79ff35",
   "metadata": {},
   "outputs": [
    {
     "name": "stdout",
     "output_type": "stream",
     "text": [
      "Matices\n",
      "Matrix A: \n",
      " [[ 2  4 -7]\n",
      " [ 3 -3  0]\n",
      " [ 1  7  5]]\n",
      "Matrix B: \n",
      " [[ 2  4]\n",
      " [ 3 -3]\n",
      " [ 1  7]]\n",
      "Matrix C: \n",
      " [[-1  1]\n",
      " [ 1 -1]]\n",
      "Matrix D: \n",
      " [[ 2  0]\n",
      " [-3  6]]\n"
     ]
    }
   ],
   "source": [
    "A = np.array([[2, 4, -7], [3, -3, 0], [1, 7, 5]])\n",
    "B = np.array([[2,4], [3, -3], [1,7]])\n",
    "C = np.array([[-1, 1], [1, -1]])\n",
    "D = np.array([[2, 0], [-3, 6]])\n",
    "\n",
    "#Printing\n",
    "print(\"Matices\")\n",
    "print(\"Matrix A: \\n\",A)\n",
    "print(\"Matrix B: \\n\",B)\n",
    "print(\"Matrix C: \\n\",C)\n",
    "print(\"Matrix D: \\n\",D)"
   ]
  },
  {
   "cell_type": "markdown",
   "id": "34e68189",
   "metadata": {},
   "source": [
    "1. Multiply $\\bf{A}$ by 2.5 "
   ]
  },
  {
   "cell_type": "code",
   "execution_count": 16,
   "id": "df60132e",
   "metadata": {},
   "outputs": [
    {
     "name": "stdout",
     "output_type": "stream",
     "text": [
      "Matrix A multiplied by 2.5: \n",
      " [[  5.   10.  -17.5]\n",
      " [  7.5  -7.5   0. ]\n",
      " [  2.5  17.5  12.5]]\n"
     ]
    }
   ],
   "source": [
    "A_25 = A * 2.5\n",
    "print(\"Matrix A multiplied by 2.5: \\n\",A_25)"
   ]
  },
  {
   "cell_type": "markdown",
   "id": "498f92cf",
   "metadata": {},
   "source": [
    "2. Evaluate the product of $\\bf{C}\\cdot\\bf{A}$ \n",
    "\n",
    "Did you get an error? Do you know why? (Hint: look at the dimensions of the matrix)\n",
    "- Got an error. the matrices are 2x2 and 3x3, so can't multiply need number of rows to match columns of other "
   ]
  },
  {
   "cell_type": "code",
   "execution_count": 17,
   "id": "a3b0a245",
   "metadata": {},
   "outputs": [
    {
     "ename": "ValueError",
     "evalue": "matmul: Input operand 1 has a mismatch in its core dimension 0, with gufunc signature (n?,k),(k,m?)->(n?,m?) (size 3 is different from 2)",
     "output_type": "error",
     "traceback": [
      "\u001b[1;31m---------------------------------------------------------------------------\u001b[0m",
      "\u001b[1;31mValueError\u001b[0m                                Traceback (most recent call last)",
      "Input \u001b[1;32mIn [17]\u001b[0m, in \u001b[0;36m<cell line: 1>\u001b[1;34m()\u001b[0m\n\u001b[1;32m----> 1\u001b[0m CA \u001b[38;5;241m=\u001b[39m \u001b[43mnp\u001b[49m\u001b[38;5;241;43m.\u001b[39;49m\u001b[43mmatmul\u001b[49m\u001b[43m(\u001b[49m\u001b[43mC\u001b[49m\u001b[43m,\u001b[49m\u001b[43m \u001b[49m\u001b[43mA\u001b[49m\u001b[43m)\u001b[49m\n\u001b[0;32m      2\u001b[0m \u001b[38;5;28mprint\u001b[39m(\u001b[38;5;124m\"\u001b[39m\u001b[38;5;124mMatrix CA: \u001b[39m\u001b[38;5;130;01m\\n\u001b[39;00m\u001b[38;5;124m\"\u001b[39m,CA)\n",
      "\u001b[1;31mValueError\u001b[0m: matmul: Input operand 1 has a mismatch in its core dimension 0, with gufunc signature (n?,k),(k,m?)->(n?,m?) (size 3 is different from 2)"
     ]
    }
   ],
   "source": [
    "CA = np.matmul(C, A)\n",
    "print(\"Matrix CA: \\n\",CA)\n",
    "\n",
    "#Error because the number of columns in the first matrix do not match the number of rows in the second matrix"
   ]
  },
  {
   "cell_type": "markdown",
   "id": "6ae4c4c7",
   "metadata": {},
   "source": [
    "3. Evaluate the product of $\\bf{C}\\cdot\\bf{D}$ and then $\\bf{D}\\cdot\\bf{C}$. Do you get the same results? \n",
    "- different answers CD != DC"
   ]
  },
  {
   "cell_type": "code",
   "execution_count": 18,
   "id": "ef09127a",
   "metadata": {},
   "outputs": [
    {
     "name": "stdout",
     "output_type": "stream",
     "text": [
      "Matrix CD: \n",
      " [[-5  6]\n",
      " [ 5 -6]]\n",
      "Matrix DC: \n",
      " [[-2  2]\n",
      " [ 9 -9]]\n"
     ]
    }
   ],
   "source": [
    "CD = np.matmul(C, D)\n",
    "DC = np.matmul(D, C)\n",
    "print(\"Matrix CD: \\n\",CD)\n",
    "print(\"Matrix DC: \\n\",DC)"
   ]
  },
  {
   "cell_type": "markdown",
   "id": "2c9c038a",
   "metadata": {},
   "source": [
    "4. Find the transpose of $\\bf{B}$"
   ]
  },
  {
   "cell_type": "code",
   "execution_count": 19,
   "id": "cc53078b",
   "metadata": {},
   "outputs": [
    {
     "name": "stdout",
     "output_type": "stream",
     "text": [
      "Matrix B_Tran: \n",
      " [[ 2  3  1]\n",
      " [ 4 -3  7]]\n"
     ]
    }
   ],
   "source": [
    "B_Tran = B.transpose()\n",
    "print(\"Matrix B_Tran: \\n\",B_Tran)"
   ]
  },
  {
   "cell_type": "markdown",
   "id": "d0bb231c",
   "metadata": {},
   "source": [
    "5. Add $\\bf{C} + \\bf{D}$"
   ]
  },
  {
   "cell_type": "code",
   "execution_count": 20,
   "id": "67c6fea8",
   "metadata": {},
   "outputs": [
    {
     "name": "stdout",
     "output_type": "stream",
     "text": [
      "Matrix C_D: \n",
      " [[ 1  1]\n",
      " [-2  5]]\n"
     ]
    }
   ],
   "source": [
    "C_D = C + D\n",
    "print(\"Matrix C_D: \\n\",C_D)"
   ]
  },
  {
   "cell_type": "markdown",
   "id": "51215fe4",
   "metadata": {},
   "source": [
    "6. Compute the determinate of $\\bf{C}$"
   ]
  },
  {
   "cell_type": "code",
   "execution_count": 21,
   "id": "cf9dd452",
   "metadata": {},
   "outputs": [
    {
     "name": "stdout",
     "output_type": "stream",
     "text": [
      "Determinate of C:  0.0\n"
     ]
    }
   ],
   "source": [
    "detC = np.linalg.det(C)\n",
    "print(\"Determinate of C: \",detC)"
   ]
  },
  {
   "cell_type": "markdown",
   "id": "7ada1b24",
   "metadata": {},
   "source": [
    "7. Compute the determinate of $\\bf{A}$"
   ]
  },
  {
   "cell_type": "code",
   "execution_count": 22,
   "id": "32c185f8",
   "metadata": {},
   "outputs": [
    {
     "name": "stdout",
     "output_type": "stream",
     "text": [
      "Determinate of A:  -257.9999999999998\n"
     ]
    }
   ],
   "source": [
    "detA = np.linalg.det(A)\n",
    "print(\"Determinate of A: \",detA)"
   ]
  },
  {
   "cell_type": "code",
   "execution_count": null,
   "id": "64f4b725",
   "metadata": {},
   "outputs": [],
   "source": []
  }
 ],
 "metadata": {
  "kernelspec": {
   "display_name": "Python 3 (ipykernel)",
   "language": "python",
   "name": "python3"
  },
  "language_info": {
   "codemirror_mode": {
    "name": "ipython",
    "version": 3
   },
   "file_extension": ".py",
   "mimetype": "text/x-python",
   "name": "python",
   "nbconvert_exporter": "python",
   "pygments_lexer": "ipython3",
   "version": "3.9.12"
  }
 },
 "nbformat": 4,
 "nbformat_minor": 5
}
